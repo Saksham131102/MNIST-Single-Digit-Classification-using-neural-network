{
  "nbformat": 4,
  "nbformat_minor": 0,
  "metadata": {
    "colab": {
      "provenance": []
    },
    "kernelspec": {
      "name": "python3",
      "display_name": "Python 3"
    },
    "language_info": {
      "name": "python"
    }
  },
  "cells": [
    {
      "cell_type": "markdown",
      "source": [
        "# MNIST Single Digit Classification using neural network.\n",
        "\n",
        "In this python notebook, we are going to build a model to classify handwritten digits.\n",
        "\n",
        "For this purpose, we are going to use MNIST dataset that is available in keras.\n",
        "\n",
        "Special thing about this dataset is it is already processed that means:\n",
        "\n",
        "\n",
        "*   Images are converted into numpy array.\n",
        "*   Images have been grayscaled for better performance of the model.\n",
        "*   All the images have same dimension (28 x 28).\n",
        "\n",
        "If you don't know how to do above 3 steps, I have written the code for each point below:\n",
        "\n",
        "\n",
        "\n",
        "### 1.   Converting image to numpy array\n",
        "To read an image as numpy array, we are going to use openCV library ```.imread()``` function\n",
        "\n",
        "\n",
        "```\n",
        "image_as_numpy_array = cv2.imread(<image file path>)\n",
        "```\n",
        "\n",
        "\n",
        "### 2.   Grayscaling the image\n",
        "openCV provides ```.cvtColor()``` function to do so.\n",
        "```\n",
        "grayscale = cv2.cvtColor(image_as_numpy_array, cv2.COLOR_RGB2GRAY)\n",
        "```\n",
        "\n",
        "### 3. Resizing the image\n",
        "We will use ```cv2.resize()``` method to do so.\n",
        "```\n",
        "image_resized = cv2.resize(grayscale, (28, 28))\n",
        "```\n",
        "\n",
        "\n",
        "All the above functions have already been performed in MNIST dataset. So when we load the dataset, we will get the data as numpy array.\n",
        "\n",
        "Also, dataset is already splitted into training and test data.\n",
        "- training - 60,000 images\n",
        "- test - 10,000 images\n",
        "\n",
        "For more reference, you can visit to the following link:\n",
        "https://keras.io/api/datasets/mnist/"
      ],
      "metadata": {
        "id": "wJHZ7LBMiU4D"
      }
    },
    {
      "cell_type": "markdown",
      "source": [
        "# Let's start with importing necessary libraries"
      ],
      "metadata": {
        "id": "tGNAE6kqnVzE"
      }
    },
    {
      "cell_type": "code",
      "execution_count": 2,
      "metadata": {
        "id": "NrIVYpULiJJX"
      },
      "outputs": [],
      "source": [
        "import numpy as np\n",
        "import matplotlib.pyplot as plt\n",
        "import seaborn as sns\n",
        "import cv2\n",
        "from google.colab.patches import cv2_imshow\n",
        "import tensorflow as tf\n",
        "tf.random.set_seed(2)\n",
        "from tensorflow import keras\n",
        "from keras.datasets import mnist\n",
        "from tensorflow.math import confusion_matrix"
      ]
    },
    {
      "cell_type": "markdown",
      "source": [
        "# Loading the data\n",
        "MNIST dataset returns Tuple of numpy arrays\n",
        "\n",
        "(x_train, y_train), (x_test, y_test)"
      ],
      "metadata": {
        "id": "Kcr5CmhGog2x"
      }
    },
    {
      "cell_type": "code",
      "source": [
        "(X_train, Y_train), (X_test, Y_test) = mnist.load_data()"
      ],
      "metadata": {
        "id": "w4UvQ-sdoOzs"
      },
      "execution_count": 3,
      "outputs": []
    },
    {
      "cell_type": "markdown",
      "source": [
        "# Type of the data\n",
        "If you check the type of the data, it is numpy array."
      ],
      "metadata": {
        "id": "h271Cta7pEFc"
      }
    },
    {
      "cell_type": "code",
      "source": [
        "type(X_train)"
      ],
      "metadata": {
        "colab": {
          "base_uri": "https://localhost:8080/"
        },
        "id": "kcIorPo7o8QV",
        "outputId": "c52af8fd-b279-4618-86c6-a5129533f8a0"
      },
      "execution_count": 4,
      "outputs": [
        {
          "output_type": "execute_result",
          "data": {
            "text/plain": [
              "numpy.ndarray"
            ]
          },
          "metadata": {},
          "execution_count": 4
        }
      ]
    },
    {
      "cell_type": "markdown",
      "source": [
        "# Shape of each Image\n",
        "All of the images have same dimension of 28 x 28"
      ],
      "metadata": {
        "id": "L9CM8xfnpWyU"
      }
    },
    {
      "cell_type": "code",
      "source": [
        "print(X_train.shape, X_test.shape)"
      ],
      "metadata": {
        "colab": {
          "base_uri": "https://localhost:8080/"
        },
        "id": "ZSVaRSt4pOQW",
        "outputId": "0a5f46cd-6f79-4266-fb40-0d157d4788f6"
      },
      "execution_count": 5,
      "outputs": [
        {
          "output_type": "stream",
          "name": "stdout",
          "text": [
            "(60000, 28, 28) (10000, 28, 28)\n"
          ]
        }
      ]
    },
    {
      "cell_type": "code",
      "source": [
        "X_train"
      ],
      "metadata": {
        "colab": {
          "base_uri": "https://localhost:8080/"
        },
        "id": "euTTyOF5ph3V",
        "outputId": "980ad146-3b2b-457b-cfd0-87ca481926bc"
      },
      "execution_count": 6,
      "outputs": [
        {
          "output_type": "execute_result",
          "data": {
            "text/plain": [
              "array([[[0, 0, 0, ..., 0, 0, 0],\n",
              "        [0, 0, 0, ..., 0, 0, 0],\n",
              "        [0, 0, 0, ..., 0, 0, 0],\n",
              "        ...,\n",
              "        [0, 0, 0, ..., 0, 0, 0],\n",
              "        [0, 0, 0, ..., 0, 0, 0],\n",
              "        [0, 0, 0, ..., 0, 0, 0]],\n",
              "\n",
              "       [[0, 0, 0, ..., 0, 0, 0],\n",
              "        [0, 0, 0, ..., 0, 0, 0],\n",
              "        [0, 0, 0, ..., 0, 0, 0],\n",
              "        ...,\n",
              "        [0, 0, 0, ..., 0, 0, 0],\n",
              "        [0, 0, 0, ..., 0, 0, 0],\n",
              "        [0, 0, 0, ..., 0, 0, 0]],\n",
              "\n",
              "       [[0, 0, 0, ..., 0, 0, 0],\n",
              "        [0, 0, 0, ..., 0, 0, 0],\n",
              "        [0, 0, 0, ..., 0, 0, 0],\n",
              "        ...,\n",
              "        [0, 0, 0, ..., 0, 0, 0],\n",
              "        [0, 0, 0, ..., 0, 0, 0],\n",
              "        [0, 0, 0, ..., 0, 0, 0]],\n",
              "\n",
              "       ...,\n",
              "\n",
              "       [[0, 0, 0, ..., 0, 0, 0],\n",
              "        [0, 0, 0, ..., 0, 0, 0],\n",
              "        [0, 0, 0, ..., 0, 0, 0],\n",
              "        ...,\n",
              "        [0, 0, 0, ..., 0, 0, 0],\n",
              "        [0, 0, 0, ..., 0, 0, 0],\n",
              "        [0, 0, 0, ..., 0, 0, 0]],\n",
              "\n",
              "       [[0, 0, 0, ..., 0, 0, 0],\n",
              "        [0, 0, 0, ..., 0, 0, 0],\n",
              "        [0, 0, 0, ..., 0, 0, 0],\n",
              "        ...,\n",
              "        [0, 0, 0, ..., 0, 0, 0],\n",
              "        [0, 0, 0, ..., 0, 0, 0],\n",
              "        [0, 0, 0, ..., 0, 0, 0]],\n",
              "\n",
              "       [[0, 0, 0, ..., 0, 0, 0],\n",
              "        [0, 0, 0, ..., 0, 0, 0],\n",
              "        [0, 0, 0, ..., 0, 0, 0],\n",
              "        ...,\n",
              "        [0, 0, 0, ..., 0, 0, 0],\n",
              "        [0, 0, 0, ..., 0, 0, 0],\n",
              "        [0, 0, 0, ..., 0, 0, 0]]], dtype=uint8)"
            ]
          },
          "metadata": {},
          "execution_count": 6
        }
      ]
    },
    {
      "cell_type": "markdown",
      "source": [
        "# Displaying an Image\n",
        "Let's see one of the images from the dataset.\n",
        "\n",
        "We will use imshow() function from cv2."
      ],
      "metadata": {
        "id": "Re0dEtdSqQez"
      }
    },
    {
      "cell_type": "code",
      "source": [
        "cv2_imshow(X_train[0])"
      ],
      "metadata": {
        "colab": {
          "base_uri": "https://localhost:8080/",
          "height": 45
        },
        "id": "0tnEiT1dpoTG",
        "outputId": "8a000ee1-0818-4234-824d-c428750ae945"
      },
      "execution_count": 7,
      "outputs": [
        {
          "output_type": "display_data",
          "data": {
            "text/plain": [
              "<PIL.Image.Image image mode=L size=28x28>"
            ],
            "image/png": "[encoded data removed]"
          },
          "metadata": {}
        }
      ]
    },
    {
      "cell_type": "markdown",
      "source": [
        "The image is small because of its dimension.\n",
        "\n",
        "You can use matplotlib.pyplot.imshow() method that displays the image as large."
      ],
      "metadata": {
        "id": "y2JRTbJSq3LY"
      }
    },
    {
      "cell_type": "code",
      "source": [
        "plt.imshow(X_train[0])"
      ],
      "metadata": {
        "colab": {
          "base_uri": "https://localhost:8080/",
          "height": 448
        },
        "id": "kTxBTuOXqrqK",
        "outputId": "2ab66700-0872-4da7-f20d-b6595973a598"
      },
      "execution_count": 8,
      "outputs": [
        {
          "output_type": "execute_result",
          "data": {
            "text/plain": [
              "<matplotlib.image.AxesImage at 0x7a18ad988970>"
            ]
          },
          "metadata": {},
          "execution_count": 8
        },
        {
          "output_type": "display_data",
          "data": {
            "text/plain": [
              "<Figure size 640x480 with 1 Axes>"
            ],
            "image/png": "[encoded data removed]"
          },
          "metadata": {}
        }
      ]
    },
    {
      "cell_type": "markdown",
      "source": [
        "Don't be amazed by looking at colored image displayed by matplotlib.\n",
        "\n",
        "It is just its way of displaying the image. The image is actually grayscaled."
      ],
      "metadata": {
        "id": "qvNwiqUlrRzi"
      }
    },
    {
      "cell_type": "markdown",
      "source": [
        "# Label of each image\n",
        "\n",
        "Let's check whether each image has label ranging from 0-9."
      ],
      "metadata": {
        "id": "POLjNOpysNgI"
      }
    },
    {
      "cell_type": "code",
      "source": [
        "print(np.unique(Y_train))\n",
        "print(np.unique(Y_test))"
      ],
      "metadata": {
        "colab": {
          "base_uri": "https://localhost:8080/"
        },
        "id": "uRIgJkI4rM1g",
        "outputId": "c100ef20-13bb-458c-c916-2a4886c68ff8"
      },
      "execution_count": 9,
      "outputs": [
        {
          "output_type": "stream",
          "name": "stdout",
          "text": [
            "[0 1 2 3 4 5 6 7 8 9]\n",
            "[0 1 2 3 4 5 6 7 8 9]\n"
          ]
        }
      ]
    },
    {
      "cell_type": "markdown",
      "source": [
        "# Normalising the input\n",
        "\n",
        "All the image have pixel value ranging from 0-255.\n",
        "\n",
        "The range is large that makes the models not to train well.\n",
        "\n",
        "So, we will normalize the input in the range of 0-1 and this small range will help the model train well."
      ],
      "metadata": {
        "id": "uOjHCgnUtCU1"
      }
    },
    {
      "cell_type": "code",
      "source": [
        "X_train = X_train/255\n",
        "X_test = X_test/255"
      ],
      "metadata": {
        "id": "bg1WLrqOsmfA"
      },
      "execution_count": 10,
      "outputs": []
    },
    {
      "cell_type": "markdown",
      "source": [
        "# Building neural network"
      ],
      "metadata": {
        "id": "Hkjwg4jSuFnH"
      }
    },
    {
      "cell_type": "code",
      "source": [
        "model = keras.Sequential([\n",
        "    keras.layers.Flatten(input_shape=(28, 28)),\n",
        "    keras.layers.Dense(100, activation='relu'),\n",
        "    keras.layers.Dense(10, activation='sigmoid')\n",
        "])"
      ],
      "metadata": {
        "id": "cmVaGPe5tq_R"
      },
      "execution_count": 11,
      "outputs": []
    },
    {
      "cell_type": "markdown",
      "source": [
        "# Compiling"
      ],
      "metadata": {
        "id": "izthu3-luqiZ"
      }
    },
    {
      "cell_type": "code",
      "source": [
        "model.compile(optimizer='adam',\n",
        "              loss='sparse_categorical_crossentropy',\n",
        "              metrics=['accuracy'])"
      ],
      "metadata": {
        "id": "9BA__2zjuoIH"
      },
      "execution_count": 12,
      "outputs": []
    },
    {
      "cell_type": "markdown",
      "source": [
        "# Training the model\n",
        "\n",
        "You need to choose optimal epoch number so that the model does not undergo overfitting."
      ],
      "metadata": {
        "id": "U8BmmYWQu38e"
      }
    },
    {
      "cell_type": "code",
      "source": [
        "model.fit(X_train, Y_train, epochs=10)"
      ],
      "metadata": {
        "colab": {
          "base_uri": "https://localhost:8080/"
        },
        "id": "jHf7tqtNu3BO",
        "outputId": "2018e150-c530-40a0-bda9-74e2b1311c31"
      },
      "execution_count": 13,
      "outputs": [
        {
          "output_type": "stream",
          "name": "stdout",
          "text": [
            "Epoch 1/10\n",
            "1875/1875 [==============================] - 17s 7ms/step - loss: 0.2780 - accuracy: 0.9212\n",
            "Epoch 2/10\n",
            "1875/1875 [==============================] - 7s 4ms/step - loss: 0.1271 - accuracy: 0.9626\n",
            "Epoch 3/10\n",
            "1875/1875 [==============================] - 7s 4ms/step - loss: 0.0880 - accuracy: 0.9740\n",
            "Epoch 4/10\n",
            "1875/1875 [==============================] - 7s 4ms/step - loss: 0.0669 - accuracy: 0.9791\n",
            "Epoch 5/10\n",
            "1875/1875 [==============================] - 7s 4ms/step - loss: 0.0522 - accuracy: 0.9840\n",
            "Epoch 6/10\n",
            "1875/1875 [==============================] - 8s 4ms/step - loss: 0.0427 - accuracy: 0.9867\n",
            "Epoch 7/10\n",
            "1875/1875 [==============================] - 7s 4ms/step - loss: 0.0360 - accuracy: 0.9886\n",
            "Epoch 8/10\n",
            "1875/1875 [==============================] - 6s 3ms/step - loss: 0.0285 - accuracy: 0.9910\n",
            "Epoch 9/10\n",
            "1875/1875 [==============================] - 8s 4ms/step - loss: 0.0242 - accuracy: 0.9926\n",
            "Epoch 10/10\n",
            "1875/1875 [==============================] - 7s 3ms/step - loss: 0.0197 - accuracy: 0.9941\n"
          ]
        },
        {
          "output_type": "execute_result",
          "data": {
            "text/plain": [
              "<keras.src.callbacks.History at 0x7a18ab887730>"
            ]
          },
          "metadata": {},
          "execution_count": 13
        }
      ]
    },
    {
      "cell_type": "markdown",
      "source": [
        "The accuracy of our model is 99.41%."
      ],
      "metadata": {
        "id": "8PufCbVxxDon"
      }
    },
    {
      "cell_type": "markdown",
      "source": [
        "# Evaluating the model\n",
        "\n",
        "to get the accuracy on test data."
      ],
      "metadata": {
        "id": "Ar4RloI8xLK8"
      }
    },
    {
      "cell_type": "code",
      "source": [
        "loss, accuracy = model.evaluate(X_test, Y_test)\n",
        "print(f\"Loss: {loss}\")\n",
        "print(f\"Accuracy: {accuracy}\")"
      ],
      "metadata": {
        "colab": {
          "base_uri": "https://localhost:8080/"
        },
        "id": "t_mu_xSYvOdW",
        "outputId": "963ece80-e6f7-49fa-aea4-10790ea371e4"
      },
      "execution_count": 14,
      "outputs": [
        {
          "output_type": "stream",
          "name": "stdout",
          "text": [
            "313/313 [==============================] - 1s 2ms/step - loss: 0.0860 - accuracy: 0.9746\n",
            "Loss: 0.08599592000246048\n",
            "Accuracy: 0.9746000170707703\n"
          ]
        }
      ]
    },
    {
      "cell_type": "markdown",
      "source": [
        "Accuracy on test data is 97.46%. It is pretty good."
      ],
      "metadata": {
        "id": "hzC9YNSwxjZ-"
      }
    },
    {
      "cell_type": "markdown",
      "source": [
        "# Prediction on X_test"
      ],
      "metadata": {
        "id": "kidUkA7hyDSW"
      }
    },
    {
      "cell_type": "code",
      "source": [
        "Y_pred = model.predict(X_test)"
      ],
      "metadata": {
        "colab": {
          "base_uri": "https://localhost:8080/"
        },
        "id": "joy1rc2Uxhvt",
        "outputId": "b5843e77-09da-48d8-e922-4f7b63d4c23a"
      },
      "execution_count": 15,
      "outputs": [
        {
          "output_type": "stream",
          "name": "stdout",
          "text": [
            "313/313 [==============================] - 1s 2ms/step\n"
          ]
        }
      ]
    },
    {
      "cell_type": "code",
      "source": [
        "Y_pred.shape"
      ],
      "metadata": {
        "colab": {
          "base_uri": "https://localhost:8080/"
        },
        "id": "Yl98lsG0yH0y",
        "outputId": "cdddb2f4-32c8-43db-a844-ca5d7c5c32d7"
      },
      "execution_count": 16,
      "outputs": [
        {
          "output_type": "execute_result",
          "data": {
            "text/plain": [
              "(10000, 10)"
            ]
          },
          "metadata": {},
          "execution_count": 16
        }
      ]
    },
    {
      "cell_type": "markdown",
      "source": [
        "Each output is an array of size 10 that is probability of a digit to be 0,1,2,...or 9."
      ],
      "metadata": {
        "id": "6RovwwjGygg8"
      }
    },
    {
      "cell_type": "code",
      "source": [
        "print(Y_pred[0])"
      ],
      "metadata": {
        "colab": {
          "base_uri": "https://localhost:8080/"
        },
        "id": "0DUXV4qNyKdJ",
        "outputId": "bbce5131-7de4-4e2c-89da-093269db10fb"
      },
      "execution_count": 17,
      "outputs": [
        {
          "output_type": "stream",
          "name": "stdout",
          "text": [
            "[1.0611987e-02 8.3481078e-05 2.2940452e-03 7.4539721e-01 1.7389156e-06\n",
            " 1.3382928e-04 2.9106385e-08 9.9998909e-01 7.5436942e-04 1.7357171e-01]\n"
          ]
        }
      ]
    },
    {
      "cell_type": "markdown",
      "source": [
        "# Converting probability into label."
      ],
      "metadata": {
        "id": "4Gl-iulJyyhS"
      }
    },
    {
      "cell_type": "code",
      "source": [
        "Y_pred_label = [np.argmax(i) for i in Y_pred]\n",
        "print(Y_pred_label[:10])"
      ],
      "metadata": {
        "colab": {
          "base_uri": "https://localhost:8080/"
        },
        "id": "PAxy8LwvytdS",
        "outputId": "6e709a65-9d34-4d14-9247-2e7bb170f091"
      },
      "execution_count": 18,
      "outputs": [
        {
          "output_type": "stream",
          "name": "stdout",
          "text": [
            "[7, 2, 1, 0, 4, 1, 4, 9, 6, 9]\n"
          ]
        }
      ]
    },
    {
      "cell_type": "markdown",
      "source": [
        "# Confusion Matrix\n",
        "\n",
        "Creating confusion matrix to get more inference."
      ],
      "metadata": {
        "id": "E6runZA0zl1y"
      }
    },
    {
      "cell_type": "code",
      "source": [
        "conf_matrix = confusion_matrix(Y_test, Y_pred_label).numpy() # converting it into numpy array\n",
        "type(conf_matrix)"
      ],
      "metadata": {
        "colab": {
          "base_uri": "https://localhost:8080/"
        },
        "id": "_bWX0CTizaGd",
        "outputId": "93e8b689-5f87-4e42-dd62-f5b3653ffd64"
      },
      "execution_count": 19,
      "outputs": [
        {
          "output_type": "execute_result",
          "data": {
            "text/plain": [
              "numpy.ndarray"
            ]
          },
          "metadata": {},
          "execution_count": 19
        }
      ]
    },
    {
      "cell_type": "code",
      "source": [
        "print(conf_matrix)"
      ],
      "metadata": {
        "colab": {
          "base_uri": "https://localhost:8080/"
        },
        "id": "pVWAgpJ1zxY5",
        "outputId": "31950002-ea1c-452c-ff2f-9ddbd4f15e78"
      },
      "execution_count": 20,
      "outputs": [
        {
          "output_type": "stream",
          "name": "stdout",
          "text": [
            "[[ 971    0    0    0    2    0    2    3    1    1]\n",
            " [   0 1123    3    0    0    1    3    1    4    0]\n",
            " [   2    1 1015    1    0    0    1    4    8    0]\n",
            " [   2    3   13  975    0    2    0    3    8    4]\n",
            " [   1    0    3    1  964    0    6    2    0    5]\n",
            " [   4    0    0   17    2  841   12    2    9    5]\n",
            " [   5    2    4    1    4    1  939    0    2    0]\n",
            " [   1    4    9    5    3    0    0  998    4    4]\n",
            " [   3    0    3    0    4    1    3    3  950    7]\n",
            " [   0    4    1    1   18    3    0    6    6  970]]\n"
          ]
        }
      ]
    },
    {
      "cell_type": "markdown",
      "source": [
        "# Visualising the confusion matrix"
      ],
      "metadata": {
        "id": "5j2wU_ER0Z60"
      }
    },
    {
      "cell_type": "code",
      "source": [
        "plt.figure(figsize = (10, 5))\n",
        "sns.heatmap(conf_matrix, annot=True, fmt='d', cmap=\"YlGnBu\")\n",
        "plt.ylabel('Actual')\n",
        "plt.xlabel('Predicted')"
      ],
      "metadata": {
        "colab": {
          "base_uri": "https://localhost:8080/",
          "height": 483
        },
        "id": "wlSiMp3B0YCn",
        "outputId": "36b8436d-a321-4e50-a87b-531a42f10ddd"
      },
      "execution_count": 21,
      "outputs": [
        {
          "output_type": "execute_result",
          "data": {
            "text/plain": [
              "Text(0.5, 25.722222222222214, 'Predicted')"
            ]
          },
          "metadata": {},
          "execution_count": 21
        },
        {
          "output_type": "display_data",
          "data": {
            "text/plain": [
              "<Figure size 1000x500 with 2 Axes>"
            ],
            "image/png": "[encoded data removed]"
          },
          "metadata": {}
        }
      ]
    },
    {
      "cell_type": "markdown",
      "source": [
        "# And that's it\n",
        "\n",
        "## Now this model can be used to predict handwritten digits correctly."
      ],
      "metadata": {
        "id": "MNBmPNm-1-4l"
      }
    },
    {
      "cell_type": "code",
      "source": [
        "# thank you"
      ],
      "metadata": {
        "id": "kSU5wdrI0xZh"
      },
      "execution_count": 22,
      "outputs": []
    }
  ]
}